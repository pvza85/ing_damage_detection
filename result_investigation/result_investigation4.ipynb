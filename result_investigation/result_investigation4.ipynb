{
 "cells": [
  {
   "cell_type": "code",
   "execution_count": 1,
   "metadata": {
    "collapsed": false
   },
   "outputs": [],
   "source": [
    "import pickle\n",
    "import numpy as np\n",
    "import pandas as pd\n",
    "from sklearn.metrics import accuracy_score\n",
    "from sklearn.metrics import recall_score\n",
    "from sklearn.metrics import precision_score\n",
    "from sklearn.metrics import fbeta_score\n",
    "from sklearn.metrics import confusion_matrix\n",
    "\n",
    "import warnings\n",
    "warnings.filterwarnings('ignore')\n",
    "\n",
    "test_pred = pickle.load(open('../../results/results_1_18/test_pred_14_30.pik', 'r'))\n",
    "test_pred = np.argmax(test_pred, axis=1)\n",
    "\n",
    "df = pd.read_csv('../../data/current/labeling.csv')\n",
    "\n",
    "train = df.head(len(df) - len(test_pred))\n",
    "test = df.tail(len(test_pred))\n",
    "test['prediction'] = test_pred\n",
    "train['prediction'] = 0"
   ]
  },
  {
   "cell_type": "code",
   "execution_count": 2,
   "metadata": {
    "collapsed": false
   },
   "outputs": [
    {
     "name": "stdout",
     "output_type": "stream",
     "text": [
      "accuracy_score:  0.99123797237\n",
      "recall_score:  0.89396411093\n",
      "precision_score:  0.848297213622\n",
      "f2_score:  0.88444157521\n",
      "confusion_matrix: \n",
      "[[17892    98]\n",
      " [   65   548]]\n"
     ]
    }
   ],
   "source": [
    "target = test['manual_label']\n",
    "pred = test_pred\n",
    "\n",
    "print 'accuracy_score: ', accuracy_score(target, pred)\n",
    "print 'recall_score: ', recall_score(target, pred)\n",
    "print 'precision_score: ', precision_score(target, pred)\n",
    "print 'f2_score: ', fbeta_score(target, pred, 2)\n",
    "print 'confusion_matrix: '\n",
    "print confusion_matrix(target, pred)"
   ]
  },
  {
   "cell_type": "markdown",
   "metadata": {
    "collapsed": true
   },
   "source": [
    "# Visualizing Results"
   ]
  },
  {
   "cell_type": "code",
   "execution_count": 3,
   "metadata": {
    "collapsed": false
   },
   "outputs": [],
   "source": [
    "import cv2\n",
    "import configparser\n",
    "import sys\n",
    "sys.path.append('../')\n",
    "from data_prep.converter import *\n",
    "from data_prep.building import *\n",
    "\n",
    "config = configparser.ConfigParser()\n",
    "config.read('../config.ini')\n",
    "conf = config['local']\n",
    "image = cv2.imread(conf['data_folder'] + conf['image_file'])"
   ]
  },
  {
   "cell_type": "code",
   "execution_count": 5,
   "metadata": {
    "collapsed": false
   },
   "outputs": [
    {
     "data": {
      "text/plain": [
       "True"
      ]
     },
     "execution_count": 5,
     "metadata": {},
     "output_type": "execute_result"
    }
   ],
   "source": [
    "for row in test.iterrows():\n",
    "    cv2.rectangle(image, (int(row[1]['x0']), int(row[1]['y0'])), (int(row[1]['x1']), int(row[1]['y1'])), color=(255,0,0), thickness=1)\n",
    " \n",
    "'''\n",
    "\n",
    "conv = Converter(conf)\n",
    "data = pd.read_csv(conf['data_folder'] + conf['building_file'])\n",
    "buildings = []\n",
    "for index in data['ORIG_FID'].unique():\n",
    "    Lng = data['LAT'][data['ORIG_FID'] == index]\n",
    "    Lat = data['LON'][data['ORIG_FID'] == index]\n",
    "    buildings.append(Building(Lng, Lat, index+1, conv, 40))\n",
    "\n",
    "\n",
    "# Building: hope to be Purple\n",
    "for building in buildings:\n",
    "    cv2.rectangle(image, (building.x0, building.y0), (building.x1, building.y1), ((128,0,128)), 2)\n",
    "\n",
    "# FP: Yellow\n",
    "for row in test[(test['prediction'] == 1) & (test['manual_label'] != 1)].iterrows():\n",
    "    cv2.rectangle(image, (int(row[1]['x0']), int(row[1]['y0'])), (int(row[1]['x1']), int(row[1]['y1'])), color=(0,255,255), thickness=1)\n",
    "    \n",
    "# FN: Red   \n",
    "for row in test[(test['prediction'] != 1) & (test['manual_label'] == 1)].iterrows():\n",
    "    cv2.rectangle(image, (int(row[1]['x0']), int(row[1]['y0'])), (int(row[1]['x1']), int(row[1]['y1'])), color=(0,0,255), thickness=1)\n",
    "# TP: Green\n",
    "for row in test[(test['prediction'] == 1) & (test['manual_label'] == 1)].iterrows():\n",
    "    cv2.rectangle(image, (int(row[1]['x0']), int(row[1]['y0'])), (int(row[1]['x1']), int(row[1]['y1'])), color=(0,255,0), thickness=1)\n",
    "\n",
    "\n",
    "for row in train[(train['manual_label'] == 1) & (train['index'] < len(train_pred))].iterrows():\n",
    "    cv2.rectangle(image, (int(row[1]['x0']), int(row[1]['y0'])), (int(row[1]['x1']), int(row[1]['y1'])), color=(255,0,0), thickness=1)\n",
    "   \n",
    "for row in test[test['prediction'] == 1].iterrows():\n",
    "    cv2.rectangle(image, (int(row[1]['x0']), int(row[1]['y0'])), (int(row[1]['x1']), int(row[1]['y1'])), color=(255,0,0), thickness=1)\n",
    "    #cv2.putText(image, str(int(row[1]['index'])), (int(row[1]['x0']), int(row[1]['y0'])), fontScale=0.2, color=(0, 0, 255), fontFace=3)\n",
    "for row in test[test['manual_label'] == 1].iterrows():\n",
    "    cv2.rectangle(image, (int(row[1]['x0']), int(row[1]['y0'])), (int(row[1]['x1']), int(row[1]['y1'])), color=(0,0,255), thickness=1)\n",
    "\n",
    "for row in test[(test['prediction'] != 1) & (test['manual_label'] == 1)].iterrows():\n",
    "    cv2.rectangle(image, (int(row[1]['x0']), int(row[1]['y0'])), (int(row[1]['x1']), int(row[1]['y1'])), color=(255,0,0), thickness=1)\n",
    "'''\n",
    "cv2.imwrite('predictions_just_colorful_vgg.tif', image)"
   ]
  },
  {
   "cell_type": "code",
   "execution_count": 14,
   "metadata": {
    "collapsed": false
   },
   "outputs": [
    {
     "data": {
      "text/plain": [
       "111"
      ]
     },
     "execution_count": 14,
     "metadata": {},
     "output_type": "execute_result"
    }
   ],
   "source": [
    "len(buildings)"
   ]
  },
  {
   "cell_type": "code",
   "execution_count": 18,
   "metadata": {
    "collapsed": false
   },
   "outputs": [
    {
     "data": {
      "text/plain": [
       "50"
      ]
     },
     "execution_count": 18,
     "metadata": {},
     "output_type": "execute_result"
    }
   ],
   "source": [
    "len(test['building_index'].unique())"
   ]
  },
  {
   "cell_type": "code",
   "execution_count": 19,
   "metadata": {
    "collapsed": false
   },
   "outputs": [],
   "source": [
    "with open('predicted_buildings.txt', 'w+') as f:\n",
    "    for key, row in test[test['prediction'] == 1].iterrows():\n",
    "        f.write(str((row['lng0'] + row['lng1'])/2) + ' ' + str((row['lat0'] + row['lat1'])/2) + '\\n')"
   ]
  },
  {
   "cell_type": "code",
   "execution_count": null,
   "metadata": {
    "collapsed": true
   },
   "outputs": [],
   "source": [
    "test[(test['lng1'] - 0) & (test['building_index'] == 0)]"
   ]
  }
 ],
 "metadata": {
  "kernelspec": {
   "display_name": "Python 2",
   "language": "python",
   "name": "python2"
  },
  "language_info": {
   "codemirror_mode": {
    "name": "ipython",
    "version": 2
   },
   "file_extension": ".py",
   "mimetype": "text/x-python",
   "name": "python",
   "nbconvert_exporter": "python",
   "pygments_lexer": "ipython2",
   "version": "2.7.12"
  }
 },
 "nbformat": 4,
 "nbformat_minor": 0
}
